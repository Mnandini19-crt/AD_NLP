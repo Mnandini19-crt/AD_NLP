{
  "nbformat": 4,
  "nbformat_minor": 0,
  "metadata": {
    "colab": {
      "provenance": [],
      "authorship_tag": "ABX9TyPo3xDE20m1Dbx6yYPBvYcN",
      "include_colab_link": true
    },
    "kernelspec": {
      "name": "python3",
      "display_name": "Python 3"
    },
    "language_info": {
      "name": "python"
    }
  },
  "cells": [
    {
      "cell_type": "markdown",
      "metadata": {
        "id": "view-in-github",
        "colab_type": "text"
      },
      "source": [
        "<a href=\"https://colab.research.google.com/github/Mnandini19-crt/AD_NLP/blob/main/chatbot.ipynb\" target=\"_parent\"><img src=\"https://colab.research.google.com/assets/colab-badge.svg\" alt=\"Open In Colab\"/></a>"
      ]
    },
    {
      "cell_type": "code",
      "execution_count": 2,
      "metadata": {
        "id": "b1sOy-l_TZmw"
      },
      "outputs": [],
      "source": [
        "import os\n",
        "import atexit\n",
        "import shutil\n",
        "from transformers import BlenderbotTokenizer, BlenderbotForConditionalGeneration\n",
        "# Step 1: Load the pre-trained BlenderBot model and tokenizer\n",
        "model_name = \"facebook/blenderbot-1B-distill\"\n",
        "tokenizer = BlenderbotTokenizer.from_pretrained(model_name)\n",
        "model = BlenderbotForConditionalGeneration.from_pretrained(model_name)\n",
        "# Step 2: Define a function to interact with the chatbot\n",
        "\n",
        "def interact_with_chatbot(user_input, conversation_history):\n",
        "\n",
        "    # Step 2.1: Add user input to the conversation history\n",
        "\n",
        "    conversation_history.append(f\"User: {user_input}\")\n",
        "\n",
        "    # Step 2.2: Prepare the input text for the model\n",
        "\n",
        "    conversation_text = \" \".join(conversation_history[-5:])  # Use only the last 5 exchanges to keep context manageable\n",
        "\n",
        "    # Step 2.3: Generate a response using the chatbot pipeline\n",
        "\n",
        "    inputs = tokenizer(conversation_text, return_tensors=\"pt\", truncation=True)\n",
        "\n",
        "    response_ids = model.generate(**inputs, max_length=1000, pad_token_id=tokenizer.eos_token_id)\n",
        "\n",
        "    response_text = tokenizer.decode(response_ids[0], skip_special_tokens=True)\n",
        "\n",
        "    # Step 2.4: Add the generated response to the conversation history\n",
        "\n",
        "    conversation_history.append(f\"Chatbot: {response_text}\")"
      ]
    },
    {
      "cell_type": "code",
      "source": [
        "# step 3: Define\n",
        "def delete_model_files():\n",
        "    cache_dir = os.path.expanduser(\"~/.cache/huggingface/hub/models--facebook--blenderbot-1B-distill\")\n",
        "    if os.path.exists(cache_dir):\n",
        "        user_input = input(\"Do you want to delete the model files from the cache directory? (y/n): \")\n",
        "        if user_input.lower() == 'y':\n",
        "            shutil.rmtree(cache_dir)\n",
        "            print(f\"Deleted model files from cache directory: {cache_dir}\")\n",
        "        else:\n",
        "            print(\"Model files not deleted from cache directory.\")\n",
        "    else:\n",
        "        print(f\"Model files not found in cache directory: {cache_dir}\")"
      ],
      "metadata": {
        "id": "lcW3EHazVbA0"
      },
      "execution_count": 3,
      "outputs": []
    },
    {
      "cell_type": "code",
      "source": [
        "#step 4:\n",
        "atexit.register(delete_model_files)\n",
        "#step 5:\n",
        "print(\"Welcome to the Indian tourism chatbot!\")\n",
        "print(\"Type 'quit' to end the conversation.\\n\")"
      ],
      "metadata": {
        "colab": {
          "base_uri": "https://localhost:8080/"
        },
        "id": "60BCDpA-Yk90",
        "outputId": "07c9e3c3-1d2f-4604-aa02-d6078072ce22"
      },
      "execution_count": 5,
      "outputs": [
        {
          "output_type": "stream",
          "name": "stdout",
          "text": [
            "Welcome to the Indian tourism chatbot!\n",
            "Type 'quit' to end the conversation.\n",
            "\n"
          ]
        }
      ]
    },
    {
      "cell_type": "code",
      "source": [
        "conversation_history=[]\n",
        "while True:\n",
        "  #step 5.1: Get user input\n",
        "  user_input=input(\"User: \")\n",
        "  #step 5.2: Check if the user wants to quit\n",
        "  if user_input.lower()==\"quit\":\n",
        "    print(\"Thank you for using the Indian Tourism Chatbot. Goodbye!\")\n",
        "    break\n",
        "  #step 5.3: Interact with the chatbot and get a response\n",
        "  response=interact_with_chatbot(user_input,conversation_history)\n",
        "  print(f\"Chatbot: {response}\")"
      ],
      "metadata": {
        "colab": {
          "base_uri": "https://localhost:8080/"
        },
        "id": "fhYBYyIQag1r",
        "outputId": "0a0f1460-0c01-446d-e862-1ffc4ee86786"
      },
      "execution_count": 6,
      "outputs": [
        {
          "output_type": "stream",
          "name": "stdout",
          "text": [
            "User: hello\n",
            "Chatbot: None\n",
            "User: quit\n",
            "Thank you for using the Indian Tourism Chatbot. Goodbye!\n"
          ]
        }
      ]
    }
  ]
}