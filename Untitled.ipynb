{
  "nbformat": 4,
  "nbformat_minor": 0,
  "metadata": {
    "colab": {
      "provenance": [],
      "authorship_tag": "ABX9TyPQkl1cuKajKTkD6lU+wJdQ",
      "include_colab_link": true
    },
    "kernelspec": {
      "name": "python3",
      "display_name": "Python 3"
    },
    "language_info": {
      "name": "python"
    }
  },
  "cells": [
    {
      "cell_type": "markdown",
      "metadata": {
        "id": "view-in-github",
        "colab_type": "text"
      },
      "source": [
        "<a href=\"https://colab.research.google.com/github/Mnandini19-crt/AD_NLP/blob/main/Untitled.ipynb\" target=\"_parent\"><img src=\"https://colab.research.google.com/assets/colab-badge.svg\" alt=\"Open In Colab\"/></a>"
      ]
    },
    {
      "cell_type": "code",
      "execution_count": 1,
      "metadata": {
        "colab": {
          "base_uri": "https://localhost:8080/"
        },
        "id": "02TYO31qH2dc",
        "outputId": "139c302c-b98c-463e-a455-2348025cc016"
      },
      "outputs": [
        {
          "output_type": "stream",
          "name": "stdout",
          "text": [
            "Collecting boto3\n",
            "  Downloading boto3-1.37.17-py3-none-any.whl.metadata (6.7 kB)\n",
            "Collecting botocore<1.38.0,>=1.37.17 (from boto3)\n",
            "  Downloading botocore-1.37.17-py3-none-any.whl.metadata (5.7 kB)\n",
            "Collecting jmespath<2.0.0,>=0.7.1 (from boto3)\n",
            "  Downloading jmespath-1.0.1-py3-none-any.whl.metadata (7.6 kB)\n",
            "Collecting s3transfer<0.12.0,>=0.11.0 (from boto3)\n",
            "  Downloading s3transfer-0.11.4-py3-none-any.whl.metadata (1.7 kB)\n",
            "Requirement already satisfied: python-dateutil<3.0.0,>=2.1 in /usr/local/lib/python3.11/dist-packages (from botocore<1.38.0,>=1.37.17->boto3) (2.8.2)\n",
            "Requirement already satisfied: urllib3!=2.2.0,<3,>=1.25.4 in /usr/local/lib/python3.11/dist-packages (from botocore<1.38.0,>=1.37.17->boto3) (2.3.0)\n",
            "Requirement already satisfied: six>=1.5 in /usr/local/lib/python3.11/dist-packages (from python-dateutil<3.0.0,>=2.1->botocore<1.38.0,>=1.37.17->boto3) (1.17.0)\n",
            "Downloading boto3-1.37.17-py3-none-any.whl (139 kB)\n",
            "\u001b[2K   \u001b[90m━━━━━━━━━━━━━━━━━━━━━━━━━━━━━━━━━━━━━━━━\u001b[0m \u001b[32m139.6/139.6 kB\u001b[0m \u001b[31m2.2 MB/s\u001b[0m eta \u001b[36m0:00:00\u001b[0m\n",
            "\u001b[?25hDownloading botocore-1.37.17-py3-none-any.whl (13.4 MB)\n",
            "\u001b[2K   \u001b[90m━━━━━━━━━━━━━━━━━━━━━━━━━━━━━━━━━━━━━━━━\u001b[0m \u001b[32m13.4/13.4 MB\u001b[0m \u001b[31m62.5 MB/s\u001b[0m eta \u001b[36m0:00:00\u001b[0m\n",
            "\u001b[?25hDownloading jmespath-1.0.1-py3-none-any.whl (20 kB)\n",
            "Downloading s3transfer-0.11.4-py3-none-any.whl (84 kB)\n",
            "\u001b[2K   \u001b[90m━━━━━━━━━━━━━━━━━━━━━━━━━━━━━━━━━━━━━━━━\u001b[0m \u001b[32m84.4/84.4 kB\u001b[0m \u001b[31m4.4 MB/s\u001b[0m eta \u001b[36m0:00:00\u001b[0m\n",
            "\u001b[?25hInstalling collected packages: jmespath, botocore, s3transfer, boto3\n",
            "Successfully installed boto3-1.37.17 botocore-1.37.17 jmespath-1.0.1 s3transfer-0.11.4\n"
          ]
        }
      ],
      "source": [
        "!pip install boto3"
      ]
    },
    {
      "cell_type": "markdown",
      "source": [
        "Download and Install\n",
        "\n",
        "https://awscli.amazonaws.com/AWSCLIV2.msi\n"
      ],
      "metadata": {
        "id": "bDQq4CazISWd"
      }
    },
    {
      "cell_type": "code",
      "source": [
        "import boto3\n",
        "s3 = boto3.client(\"s3\")"
      ],
      "metadata": {
        "id": "zU3VvofjIe78"
      },
      "execution_count": 2,
      "outputs": []
    },
    {
      "cell_type": "markdown",
      "source": [
        "Create an S3 Bucket\n"
      ],
      "metadata": {
        "id": "u8dCtOmUJMCR"
      }
    },
    {
      "cell_type": "code",
      "source": [
        "bucket_name = \"mynlpmru3\"\n",
        "s3.create_bucket(\n",
        "    Bucket=bucket_name,\n",
        "    CreateBucketConfiguration={\"LocationConstraint\": \"eu-north-1\"}\n",
        ")\n",
        "print(f\"Bucket '{bucket_name}' created successfully!\")"
      ],
      "metadata": {
        "id": "1cS2ALTKJr-B"
      },
      "execution_count": null,
      "outputs": []
    },
    {
      "cell_type": "markdown",
      "source": [
        "List Buckets"
      ],
      "metadata": {
        "id": "oz4TiaSxJt2r"
      }
    },
    {
      "cell_type": "code",
      "source": [
        "response = s3.list_buckets()\n",
        "print(\"Existing Buckets:\")\n",
        "for bucket in response[\"Buckets\"]:\n",
        "    print(f\"- {bucket['Name']}\")"
      ],
      "metadata": {
        "id": "Ps-6mnNNI70B"
      },
      "execution_count": null,
      "outputs": []
    },
    {
      "cell_type": "code",
      "source": [
        "response = s3.list_buckets()\n",
        "\n",
        "\n",
        "\n",
        "print(\"Existing Buckets:\")\n",
        "\n",
        "for bucket in response[\"Buckets\"]:\n",
        "\n",
        "    print(f\"- {bucket['Name']}\")"
      ],
      "metadata": {
        "id": "BdXbwRRwOlgj"
      },
      "execution_count": null,
      "outputs": []
    },
    {
      "cell_type": "code",
      "source": [
        "s3.upload_file(\"test.txt\", \"mynlpmru\", \"data/testfile1.txt\")\n",
        "\n",
        "\n",
        "\n",
        "print(\"Upload complete!\")"
      ],
      "metadata": {
        "id": "ocVsU8s6OpDh"
      },
      "execution_count": null,
      "outputs": []
    }
  ]
}